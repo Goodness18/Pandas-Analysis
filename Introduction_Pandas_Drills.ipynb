{
  "nbformat": 4,
  "nbformat_minor": 0,
  "metadata": {
    "colab": {
      "provenance": [],
      "include_colab_link": true
    },
    "language_info": {
      "codemirror_mode": {
        "name": "ipython",
        "version": 3
      },
      "file_extension": ".py",
      "mimetype": "text/x-python",
      "name": "python",
      "nbconvert_exporter": "python",
      "pygments_lexer": "ipython3",
      "version": "3.6.5"
    },
    "kernelspec": {
      "display_name": "Python [default]",
      "language": "python",
      "name": "python3"
    }
  },
  "cells": [
    {
      "cell_type": "markdown",
      "metadata": {
        "id": "view-in-github",
        "colab_type": "text"
      },
      "source": [
        "<a href=\"https://colab.research.google.com/github/Goodness18/Pandas-Analysis/blob/main/Introduction_Pandas_Drills.ipynb\" target=\"_parent\"><img src=\"https://colab.research.google.com/assets/colab-badge.svg\" alt=\"Open In Colab\"/></a>"
      ]
    },
    {
      "cell_type": "markdown",
      "metadata": {
        "id": "bL9LXvuxW6so"
      },
      "source": [
        "<center>\n",
        "<img src=\"https://drive.google.com/uc?export=view&id=1i1_Glu8nhZPHh9S5PSq16JIBmligAA_x\"  alt=\"drawing\" height=\"100\"/>\n",
        "<br><br>\n",
        " <img src=\"https://drive.google.com/uc?export=view&id=1C3xcWyRHizAnjfs1j_NZnYalapqQ-Lrq\"  alt=\"drawing\" height=\"150\"/>\n",
        "  \n",
        "</center>"
      ]
    },
    {
      "cell_type": "markdown",
      "metadata": {
        "id": "qak1bHD5WX7o"
      },
      "source": [
        "# Introduction to Pandas Workshop\n",
        "\n",
        "## Jonathan Balaban and Joe Eddy\n",
        "\n",
        "---\n",
        "\n",
        "## Python\n",
        "- One of world's most popular languages, especially for Data Science\n",
        "- Design encourages simplicity and readability\n",
        "- Robust language that easily integrates with other software components\n",
        "- Object-oriented programming\n",
        "\n",
        "## Google Colab/Jupyter Notebooks\n",
        "- Executes Python code on the fly\n",
        "- Interactivity allows for instant feedback\n",
        "- Memory persists across cells\n",
        "- `shift+enter` to run cells\n",
        "- Use [markdown](https://blog.ghost.org/markdown/) (TEXT) mode for adding formatted text"
      ]
    },
    {
      "cell_type": "markdown",
      "metadata": {
        "id": "7jK67F71WX7p"
      },
      "source": [
        "## Introduction to Pandas"
      ]
    },
    {
      "cell_type": "markdown",
      "metadata": {
        "id": "MU4RfVz6WX7q"
      },
      "source": [
        "Pandas is a module in Python that is great for handling lots of data. Think of it as code-based Excel, allowing us to use spreadsheet functionality within a Data Science environment. We'll use it today to sort, reshape, and clean up data.\n",
        "\n",
        "> **From the Pandas documentation:**\n",
        ">\n",
        "> Some things that pandas does well:\n",
        ">\n",
        "> - Easy handling of **missing data** (represented as NaN) in floating point as well as non-floating point data\n",
        "- Size mutability: columns can be **inserted and deleted** from DataFrames and higher dimensional objects\n",
        "- Automatic and explicit **data alignment**: objects can be explicitly aligned to a set of labels, or the user can simply ignore the labels and let Series, DataFrame, etc. automatically align the data for you in computations\n",
        "- Powerful, flexible **group by** functionality to perform split-apply-combine operations on data sets, for both aggregating and transforming data\n",
        "- Make it **easy to convert** ragged, differently-indexed data in other Python and NumPy data structures into DataFrame objects\n",
        "- Intelligent **label-based slicing**, **fancy indexing**, and **subsetting** of large data sets\n",
        "- Intuitive **merging** and **joining** data sets\n",
        "- Flexible **reshaping** and **pivoting** of data sets\n",
        "- **Hierarchical labeling** of axes (possible to have multiple labels per tick)\n",
        "- **Robust IO tools** for loading data from flat files (CSV and delimited), Excel files, databases, and saving / loading data from the ultrafast HDF5 format\n",
        "- **Time-series** functionality: date range generation and frequency conversion, moving window statistics, moving window linear regressions, date shifting and lagging, etc.\n",
        "\n",
        "Let's get a sense of how it works with a test data set from a weather report."
      ]
    },
    {
      "cell_type": "code",
      "metadata": {
        "ExecuteTime": {
          "end_time": "2018-06-15T15:55:13.324009Z",
          "start_time": "2018-06-15T15:55:11.918149Z"
        },
        "id": "eq_oL1R8WX7r"
      },
      "source": [
        "import pandas as pd # pd is by convention\n",
        "import numpy as np # as is np, always use these to make life easy\n",
        "\n",
        "import matplotlib.pyplot as plt\n",
        "import seaborn as sns\n",
        "\n",
        "# To Plot matplotlib figures inline on the notebook\n",
        "%matplotlib inline"
      ],
      "execution_count": null,
      "outputs": []
    },
    {
      "cell_type": "markdown",
      "metadata": {
        "id": "KqKO-2pnWX7t"
      },
      "source": [
        "The building blocks of pandas are called Series and DataFrames. A Dataframe is essentially a table, like shown below:"
      ]
    },
    {
      "cell_type": "markdown",
      "metadata": {
        "id": "nl4UDqBGWX7u"
      },
      "source": [
        "![alt text](https://github.com/ultimatist/DDS/blob/master/images/dataframe.png?raw=true)"
      ]
    },
    {
      "cell_type": "markdown",
      "metadata": {
        "id": "N11myBhMWX7v"
      },
      "source": [
        "Each row of the dataframe will be one specific record, and each column will be some aspect of that record. That will make more sense when we look at an example. Series are individual rows or columns (essentially if we break apart that dataframe into a single set of numbers). Let's look at that in action."
      ]
    },
    {
      "cell_type": "markdown",
      "metadata": {
        "id": "xt68zvi119BT"
      },
      "source": [
        "### POLL\n",
        ">- When would using Pandas make sense?\n",
        "\n",
        "\n",
        ">- When might you not want to use Pandas?"
      ]
    },
    {
      "cell_type": "markdown",
      "metadata": {
        "id": "-zy60WTeWX7v"
      },
      "source": [
        "### Reading Data\n",
        "\n",
        "To begin with, we're going to read in some data from a CSV."
      ]
    },
    {
      "cell_type": "code",
      "metadata": {
        "ExecuteTime": {
          "end_time": "2018-06-15T15:55:13.385387Z",
          "start_time": "2018-06-15T15:55:13.325932Z"
        },
        "id": "zhLDTPNBWX7w",
        "colab": {
          "base_uri": "https://localhost:8080/",
          "height": 206
        },
        "outputId": "62182939-0d78-4540-ed10-af1ba436fc1a"
      },
      "source": [
        "weather = pd.read_csv('https://raw.githubusercontent.com/ultimatist/DDS/master/data/weather.csv')\n",
        "weather.head()"
      ],
      "execution_count": null,
      "outputs": [
        {
          "output_type": "execute_result",
          "data": {
            "text/plain": [
              "             Date/Time  Temp (C)  Dew Point Temp (C)  Rel Hum (%)  \\\n",
              "0  2012-01-01 00:00:00      -1.8                -3.9           86   \n",
              "1  2012-01-01 01:00:00      -1.8                -3.7           87   \n",
              "2  2012-01-01 02:00:00      -1.8                -3.4           89   \n",
              "3  2012-01-01 03:00:00      -1.5                -3.2           88   \n",
              "4  2012-01-01 04:00:00      -1.5                -3.3           88   \n",
              "\n",
              "   Wind Spd (km/h)  Visibility (km)  Stn Press (kPa)               Weather  \n",
              "0                4              8.0           101.24                   Fog  \n",
              "1                4              8.0           101.24                   Fog  \n",
              "2                7              4.0           101.26  Freezing Drizzle,Fog  \n",
              "3                6              4.0           101.27  Freezing Drizzle,Fog  \n",
              "4                7              4.8           101.23                   Fog  "
            ],
            "text/html": [
              "\n",
              "  <div id=\"df-1f1251ad-2806-4af4-9ed6-c08f17dc87a4\">\n",
              "    <div class=\"colab-df-container\">\n",
              "      <div>\n",
              "<style scoped>\n",
              "    .dataframe tbody tr th:only-of-type {\n",
              "        vertical-align: middle;\n",
              "    }\n",
              "\n",
              "    .dataframe tbody tr th {\n",
              "        vertical-align: top;\n",
              "    }\n",
              "\n",
              "    .dataframe thead th {\n",
              "        text-align: right;\n",
              "    }\n",
              "</style>\n",
              "<table border=\"1\" class=\"dataframe\">\n",
              "  <thead>\n",
              "    <tr style=\"text-align: right;\">\n",
              "      <th></th>\n",
              "      <th>Date/Time</th>\n",
              "      <th>Temp (C)</th>\n",
              "      <th>Dew Point Temp (C)</th>\n",
              "      <th>Rel Hum (%)</th>\n",
              "      <th>Wind Spd (km/h)</th>\n",
              "      <th>Visibility (km)</th>\n",
              "      <th>Stn Press (kPa)</th>\n",
              "      <th>Weather</th>\n",
              "    </tr>\n",
              "  </thead>\n",
              "  <tbody>\n",
              "    <tr>\n",
              "      <th>0</th>\n",
              "      <td>2012-01-01 00:00:00</td>\n",
              "      <td>-1.8</td>\n",
              "      <td>-3.9</td>\n",
              "      <td>86</td>\n",
              "      <td>4</td>\n",
              "      <td>8.0</td>\n",
              "      <td>101.24</td>\n",
              "      <td>Fog</td>\n",
              "    </tr>\n",
              "    <tr>\n",
              "      <th>1</th>\n",
              "      <td>2012-01-01 01:00:00</td>\n",
              "      <td>-1.8</td>\n",
              "      <td>-3.7</td>\n",
              "      <td>87</td>\n",
              "      <td>4</td>\n",
              "      <td>8.0</td>\n",
              "      <td>101.24</td>\n",
              "      <td>Fog</td>\n",
              "    </tr>\n",
              "    <tr>\n",
              "      <th>2</th>\n",
              "      <td>2012-01-01 02:00:00</td>\n",
              "      <td>-1.8</td>\n",
              "      <td>-3.4</td>\n",
              "      <td>89</td>\n",
              "      <td>7</td>\n",
              "      <td>4.0</td>\n",
              "      <td>101.26</td>\n",
              "      <td>Freezing Drizzle,Fog</td>\n",
              "    </tr>\n",
              "    <tr>\n",
              "      <th>3</th>\n",
              "      <td>2012-01-01 03:00:00</td>\n",
              "      <td>-1.5</td>\n",
              "      <td>-3.2</td>\n",
              "      <td>88</td>\n",
              "      <td>6</td>\n",
              "      <td>4.0</td>\n",
              "      <td>101.27</td>\n",
              "      <td>Freezing Drizzle,Fog</td>\n",
              "    </tr>\n",
              "    <tr>\n",
              "      <th>4</th>\n",
              "      <td>2012-01-01 04:00:00</td>\n",
              "      <td>-1.5</td>\n",
              "      <td>-3.3</td>\n",
              "      <td>88</td>\n",
              "      <td>7</td>\n",
              "      <td>4.8</td>\n",
              "      <td>101.23</td>\n",
              "      <td>Fog</td>\n",
              "    </tr>\n",
              "  </tbody>\n",
              "</table>\n",
              "</div>\n",
              "      <button class=\"colab-df-convert\" onclick=\"convertToInteractive('df-1f1251ad-2806-4af4-9ed6-c08f17dc87a4')\"\n",
              "              title=\"Convert this dataframe to an interactive table.\"\n",
              "              style=\"display:none;\">\n",
              "        \n",
              "  <svg xmlns=\"http://www.w3.org/2000/svg\" height=\"24px\"viewBox=\"0 0 24 24\"\n",
              "       width=\"24px\">\n",
              "    <path d=\"M0 0h24v24H0V0z\" fill=\"none\"/>\n",
              "    <path d=\"M18.56 5.44l.94 2.06.94-2.06 2.06-.94-2.06-.94-.94-2.06-.94 2.06-2.06.94zm-11 1L8.5 8.5l.94-2.06 2.06-.94-2.06-.94L8.5 2.5l-.94 2.06-2.06.94zm10 10l.94 2.06.94-2.06 2.06-.94-2.06-.94-.94-2.06-.94 2.06-2.06.94z\"/><path d=\"M17.41 7.96l-1.37-1.37c-.4-.4-.92-.59-1.43-.59-.52 0-1.04.2-1.43.59L10.3 9.45l-7.72 7.72c-.78.78-.78 2.05 0 2.83L4 21.41c.39.39.9.59 1.41.59.51 0 1.02-.2 1.41-.59l7.78-7.78 2.81-2.81c.8-.78.8-2.07 0-2.86zM5.41 20L4 18.59l7.72-7.72 1.47 1.35L5.41 20z\"/>\n",
              "  </svg>\n",
              "      </button>\n",
              "      \n",
              "  <style>\n",
              "    .colab-df-container {\n",
              "      display:flex;\n",
              "      flex-wrap:wrap;\n",
              "      gap: 12px;\n",
              "    }\n",
              "\n",
              "    .colab-df-convert {\n",
              "      background-color: #E8F0FE;\n",
              "      border: none;\n",
              "      border-radius: 50%;\n",
              "      cursor: pointer;\n",
              "      display: none;\n",
              "      fill: #1967D2;\n",
              "      height: 32px;\n",
              "      padding: 0 0 0 0;\n",
              "      width: 32px;\n",
              "    }\n",
              "\n",
              "    .colab-df-convert:hover {\n",
              "      background-color: #E2EBFA;\n",
              "      box-shadow: 0px 1px 2px rgba(60, 64, 67, 0.3), 0px 1px 3px 1px rgba(60, 64, 67, 0.15);\n",
              "      fill: #174EA6;\n",
              "    }\n",
              "\n",
              "    [theme=dark] .colab-df-convert {\n",
              "      background-color: #3B4455;\n",
              "      fill: #D2E3FC;\n",
              "    }\n",
              "\n",
              "    [theme=dark] .colab-df-convert:hover {\n",
              "      background-color: #434B5C;\n",
              "      box-shadow: 0px 1px 3px 1px rgba(0, 0, 0, 0.15);\n",
              "      filter: drop-shadow(0px 1px 2px rgba(0, 0, 0, 0.3));\n",
              "      fill: #FFFFFF;\n",
              "    }\n",
              "  </style>\n",
              "\n",
              "      <script>\n",
              "        const buttonEl =\n",
              "          document.querySelector('#df-1f1251ad-2806-4af4-9ed6-c08f17dc87a4 button.colab-df-convert');\n",
              "        buttonEl.style.display =\n",
              "          google.colab.kernel.accessAllowed ? 'block' : 'none';\n",
              "\n",
              "        async function convertToInteractive(key) {\n",
              "          const element = document.querySelector('#df-1f1251ad-2806-4af4-9ed6-c08f17dc87a4');\n",
              "          const dataTable =\n",
              "            await google.colab.kernel.invokeFunction('convertToInteractive',\n",
              "                                                     [key], {});\n",
              "          if (!dataTable) return;\n",
              "\n",
              "          const docLinkHtml = 'Like what you see? Visit the ' +\n",
              "            '<a target=\"_blank\" href=https://colab.research.google.com/notebooks/data_table.ipynb>data table notebook</a>'\n",
              "            + ' to learn more about interactive tables.';\n",
              "          element.innerHTML = '';\n",
              "          dataTable['output_type'] = 'display_data';\n",
              "          await google.colab.output.renderOutput(dataTable, element);\n",
              "          const docLink = document.createElement('div');\n",
              "          docLink.innerHTML = docLinkHtml;\n",
              "          element.appendChild(docLink);\n",
              "        }\n",
              "      </script>\n",
              "    </div>\n",
              "  </div>\n",
              "  "
            ]
          },
          "metadata": {},
          "execution_count": 3
        }
      ]
    },
    {
      "cell_type": "markdown",
      "metadata": {
        "id": "7Uau8Y74WX70"
      },
      "source": [
        "Here we got our table, and it shows us that we're looking at the hourly weather at some point. We can see that the temperature was below freezing for each of the first four hours, that there was some fog, and that it was a little bit windy. We used `weather.head()` to show us just the first few rows. Otherwise, it would show us a HUGE amount of data. We can look at the last few rows with `weather.tail()`"
      ]
    },
    {
      "cell_type": "code",
      "metadata": {
        "ExecuteTime": {
          "end_time": "2018-06-15T15:55:14.709110Z",
          "start_time": "2018-06-15T15:55:14.696122Z"
        },
        "id": "PesqiszaWX70",
        "colab": {
          "base_uri": "https://localhost:8080/",
          "height": 206
        },
        "outputId": "6108359a-1694-45a2-f593-258da73571ba"
      },
      "source": [
        "weather.tail()"
      ],
      "execution_count": null,
      "outputs": [
        {
          "output_type": "execute_result",
          "data": {
            "text/plain": [
              "                Date/Time  Temp (C)  Dew Point Temp (C)  Rel Hum (%)  \\\n",
              "8779  2012-12-31 19:00:00       0.1                -2.7           81   \n",
              "8780  2012-12-31 20:00:00       0.2                -2.4           83   \n",
              "8781  2012-12-31 21:00:00      -0.5                -1.5           93   \n",
              "8782  2012-12-31 22:00:00      -0.2                -1.8           89   \n",
              "8783  2012-12-31 23:00:00       0.0                -2.1           86   \n",
              "\n",
              "      Wind Spd (km/h)  Visibility (km)  Stn Press (kPa) Weather  \n",
              "8779               30              9.7           100.13    Snow  \n",
              "8780               24              9.7           100.03    Snow  \n",
              "8781               28              4.8            99.95    Snow  \n",
              "8782               28              9.7            99.91    Snow  \n",
              "8783               30             11.3            99.89    Snow  "
            ],
            "text/html": [
              "\n",
              "  <div id=\"df-d3e714ea-7101-45d3-880a-90996680cdba\">\n",
              "    <div class=\"colab-df-container\">\n",
              "      <div>\n",
              "<style scoped>\n",
              "    .dataframe tbody tr th:only-of-type {\n",
              "        vertical-align: middle;\n",
              "    }\n",
              "\n",
              "    .dataframe tbody tr th {\n",
              "        vertical-align: top;\n",
              "    }\n",
              "\n",
              "    .dataframe thead th {\n",
              "        text-align: right;\n",
              "    }\n",
              "</style>\n",
              "<table border=\"1\" class=\"dataframe\">\n",
              "  <thead>\n",
              "    <tr style=\"text-align: right;\">\n",
              "      <th></th>\n",
              "      <th>Date/Time</th>\n",
              "      <th>Temp (C)</th>\n",
              "      <th>Dew Point Temp (C)</th>\n",
              "      <th>Rel Hum (%)</th>\n",
              "      <th>Wind Spd (km/h)</th>\n",
              "      <th>Visibility (km)</th>\n",
              "      <th>Stn Press (kPa)</th>\n",
              "      <th>Weather</th>\n",
              "    </tr>\n",
              "  </thead>\n",
              "  <tbody>\n",
              "    <tr>\n",
              "      <th>8779</th>\n",
              "      <td>2012-12-31 19:00:00</td>\n",
              "      <td>0.1</td>\n",
              "      <td>-2.7</td>\n",
              "      <td>81</td>\n",
              "      <td>30</td>\n",
              "      <td>9.7</td>\n",
              "      <td>100.13</td>\n",
              "      <td>Snow</td>\n",
              "    </tr>\n",
              "    <tr>\n",
              "      <th>8780</th>\n",
              "      <td>2012-12-31 20:00:00</td>\n",
              "      <td>0.2</td>\n",
              "      <td>-2.4</td>\n",
              "      <td>83</td>\n",
              "      <td>24</td>\n",
              "      <td>9.7</td>\n",
              "      <td>100.03</td>\n",
              "      <td>Snow</td>\n",
              "    </tr>\n",
              "    <tr>\n",
              "      <th>8781</th>\n",
              "      <td>2012-12-31 21:00:00</td>\n",
              "      <td>-0.5</td>\n",
              "      <td>-1.5</td>\n",
              "      <td>93</td>\n",
              "      <td>28</td>\n",
              "      <td>4.8</td>\n",
              "      <td>99.95</td>\n",
              "      <td>Snow</td>\n",
              "    </tr>\n",
              "    <tr>\n",
              "      <th>8782</th>\n",
              "      <td>2012-12-31 22:00:00</td>\n",
              "      <td>-0.2</td>\n",
              "      <td>-1.8</td>\n",
              "      <td>89</td>\n",
              "      <td>28</td>\n",
              "      <td>9.7</td>\n",
              "      <td>99.91</td>\n",
              "      <td>Snow</td>\n",
              "    </tr>\n",
              "    <tr>\n",
              "      <th>8783</th>\n",
              "      <td>2012-12-31 23:00:00</td>\n",
              "      <td>0.0</td>\n",
              "      <td>-2.1</td>\n",
              "      <td>86</td>\n",
              "      <td>30</td>\n",
              "      <td>11.3</td>\n",
              "      <td>99.89</td>\n",
              "      <td>Snow</td>\n",
              "    </tr>\n",
              "  </tbody>\n",
              "</table>\n",
              "</div>\n",
              "      <button class=\"colab-df-convert\" onclick=\"convertToInteractive('df-d3e714ea-7101-45d3-880a-90996680cdba')\"\n",
              "              title=\"Convert this dataframe to an interactive table.\"\n",
              "              style=\"display:none;\">\n",
              "        \n",
              "  <svg xmlns=\"http://www.w3.org/2000/svg\" height=\"24px\"viewBox=\"0 0 24 24\"\n",
              "       width=\"24px\">\n",
              "    <path d=\"M0 0h24v24H0V0z\" fill=\"none\"/>\n",
              "    <path d=\"M18.56 5.44l.94 2.06.94-2.06 2.06-.94-2.06-.94-.94-2.06-.94 2.06-2.06.94zm-11 1L8.5 8.5l.94-2.06 2.06-.94-2.06-.94L8.5 2.5l-.94 2.06-2.06.94zm10 10l.94 2.06.94-2.06 2.06-.94-2.06-.94-.94-2.06-.94 2.06-2.06.94z\"/><path d=\"M17.41 7.96l-1.37-1.37c-.4-.4-.92-.59-1.43-.59-.52 0-1.04.2-1.43.59L10.3 9.45l-7.72 7.72c-.78.78-.78 2.05 0 2.83L4 21.41c.39.39.9.59 1.41.59.51 0 1.02-.2 1.41-.59l7.78-7.78 2.81-2.81c.8-.78.8-2.07 0-2.86zM5.41 20L4 18.59l7.72-7.72 1.47 1.35L5.41 20z\"/>\n",
              "  </svg>\n",
              "      </button>\n",
              "      \n",
              "  <style>\n",
              "    .colab-df-container {\n",
              "      display:flex;\n",
              "      flex-wrap:wrap;\n",
              "      gap: 12px;\n",
              "    }\n",
              "\n",
              "    .colab-df-convert {\n",
              "      background-color: #E8F0FE;\n",
              "      border: none;\n",
              "      border-radius: 50%;\n",
              "      cursor: pointer;\n",
              "      display: none;\n",
              "      fill: #1967D2;\n",
              "      height: 32px;\n",
              "      padding: 0 0 0 0;\n",
              "      width: 32px;\n",
              "    }\n",
              "\n",
              "    .colab-df-convert:hover {\n",
              "      background-color: #E2EBFA;\n",
              "      box-shadow: 0px 1px 2px rgba(60, 64, 67, 0.3), 0px 1px 3px 1px rgba(60, 64, 67, 0.15);\n",
              "      fill: #174EA6;\n",
              "    }\n",
              "\n",
              "    [theme=dark] .colab-df-convert {\n",
              "      background-color: #3B4455;\n",
              "      fill: #D2E3FC;\n",
              "    }\n",
              "\n",
              "    [theme=dark] .colab-df-convert:hover {\n",
              "      background-color: #434B5C;\n",
              "      box-shadow: 0px 1px 3px 1px rgba(0, 0, 0, 0.15);\n",
              "      filter: drop-shadow(0px 1px 2px rgba(0, 0, 0, 0.3));\n",
              "      fill: #FFFFFF;\n",
              "    }\n",
              "  </style>\n",
              "\n",
              "      <script>\n",
              "        const buttonEl =\n",
              "          document.querySelector('#df-d3e714ea-7101-45d3-880a-90996680cdba button.colab-df-convert');\n",
              "        buttonEl.style.display =\n",
              "          google.colab.kernel.accessAllowed ? 'block' : 'none';\n",
              "\n",
              "        async function convertToInteractive(key) {\n",
              "          const element = document.querySelector('#df-d3e714ea-7101-45d3-880a-90996680cdba');\n",
              "          const dataTable =\n",
              "            await google.colab.kernel.invokeFunction('convertToInteractive',\n",
              "                                                     [key], {});\n",
              "          if (!dataTable) return;\n",
              "\n",
              "          const docLinkHtml = 'Like what you see? Visit the ' +\n",
              "            '<a target=\"_blank\" href=https://colab.research.google.com/notebooks/data_table.ipynb>data table notebook</a>'\n",
              "            + ' to learn more about interactive tables.';\n",
              "          element.innerHTML = '';\n",
              "          dataTable['output_type'] = 'display_data';\n",
              "          await google.colab.output.renderOutput(dataTable, element);\n",
              "          const docLink = document.createElement('div');\n",
              "          docLink.innerHTML = docLinkHtml;\n",
              "          element.appendChild(docLink);\n",
              "        }\n",
              "      </script>\n",
              "    </div>\n",
              "  </div>\n",
              "  "
            ]
          },
          "metadata": {},
          "execution_count": 4
        }
      ]
    },
    {
      "cell_type": "markdown",
      "metadata": {
        "id": "YHB6cvBBWX74"
      },
      "source": [
        "Now let's use a Pandas built-in function to learn a little about our data."
      ]
    },
    {
      "cell_type": "code",
      "metadata": {
        "ExecuteTime": {
          "end_time": "2018-06-15T15:55:15.474995Z",
          "start_time": "2018-06-15T15:55:15.461376Z"
        },
        "id": "s4X5vKTZWX74",
        "colab": {
          "base_uri": "https://localhost:8080/"
        },
        "outputId": "8fa354d1-d7e5-4b4a-88ba-1b816d17b5fe"
      },
      "source": [
        "weather.info()"
      ],
      "execution_count": null,
      "outputs": [
        {
          "output_type": "stream",
          "name": "stdout",
          "text": [
            "<class 'pandas.core.frame.DataFrame'>\n",
            "RangeIndex: 8784 entries, 0 to 8783\n",
            "Data columns (total 8 columns):\n",
            " #   Column              Non-Null Count  Dtype  \n",
            "---  ------              --------------  -----  \n",
            " 0   Date/Time           8784 non-null   object \n",
            " 1   Temp (C)            8784 non-null   float64\n",
            " 2   Dew Point Temp (C)  8784 non-null   float64\n",
            " 3   Rel Hum (%)         8784 non-null   int64  \n",
            " 4   Wind Spd (km/h)     8784 non-null   int64  \n",
            " 5   Visibility (km)     8784 non-null   float64\n",
            " 6   Stn Press (kPa)     8784 non-null   float64\n",
            " 7   Weather             8784 non-null   object \n",
            "dtypes: float64(4), int64(2), object(2)\n",
            "memory usage: 549.1+ KB\n"
          ]
        }
      ]
    },
    {
      "cell_type": "markdown",
      "metadata": {
        "id": "iTpMZSGl2USf"
      },
      "source": [
        "### POLL\n",
        "\n",
        ">- Are these data types consistent with what we expect?"
      ]
    },
    {
      "cell_type": "markdown",
      "metadata": {
        "id": "ryaY5_b0WX77"
      },
      "source": [
        "We can also look to see how much of our data makes sense by asking it to look at the numeric columns and give us some stats about them."
      ]
    },
    {
      "cell_type": "code",
      "metadata": {
        "ExecuteTime": {
          "end_time": "2018-06-15T15:55:17.641689Z",
          "start_time": "2018-06-15T15:55:17.601500Z"
        },
        "id": "pC7owR6kWX77",
        "colab": {
          "base_uri": "https://localhost:8080/",
          "height": 300
        },
        "outputId": "4c6f140c-b4c1-4745-aeac-22d500cd027c"
      },
      "source": [
        "weather.describe()"
      ],
      "execution_count": null,
      "outputs": [
        {
          "output_type": "execute_result",
          "data": {
            "text/plain": [
              "          Temp (C)  Dew Point Temp (C)  Rel Hum (%)  Wind Spd (km/h)  \\\n",
              "count  8784.000000         8784.000000  8784.000000      8784.000000   \n",
              "mean      8.798144            2.555294    67.431694        14.945469   \n",
              "std      11.687883           10.883072    16.918881         8.688696   \n",
              "min     -23.300000          -28.500000    18.000000         0.000000   \n",
              "25%       0.100000           -5.900000    56.000000         9.000000   \n",
              "50%       9.300000            3.300000    68.000000        13.000000   \n",
              "75%      18.800000           11.800000    81.000000        20.000000   \n",
              "max      33.000000           24.400000   100.000000        83.000000   \n",
              "\n",
              "       Visibility (km)  Stn Press (kPa)  \n",
              "count      8784.000000      8784.000000  \n",
              "mean         27.664447       101.051623  \n",
              "std          12.622688         0.844005  \n",
              "min           0.200000        97.520000  \n",
              "25%          24.100000       100.560000  \n",
              "50%          25.000000       101.070000  \n",
              "75%          25.000000       101.590000  \n",
              "max          48.300000       103.650000  "
            ],
            "text/html": [
              "\n",
              "  <div id=\"df-c8195d7a-b06c-4828-b2b4-27a6e732e69d\">\n",
              "    <div class=\"colab-df-container\">\n",
              "      <div>\n",
              "<style scoped>\n",
              "    .dataframe tbody tr th:only-of-type {\n",
              "        vertical-align: middle;\n",
              "    }\n",
              "\n",
              "    .dataframe tbody tr th {\n",
              "        vertical-align: top;\n",
              "    }\n",
              "\n",
              "    .dataframe thead th {\n",
              "        text-align: right;\n",
              "    }\n",
              "</style>\n",
              "<table border=\"1\" class=\"dataframe\">\n",
              "  <thead>\n",
              "    <tr style=\"text-align: right;\">\n",
              "      <th></th>\n",
              "      <th>Temp (C)</th>\n",
              "      <th>Dew Point Temp (C)</th>\n",
              "      <th>Rel Hum (%)</th>\n",
              "      <th>Wind Spd (km/h)</th>\n",
              "      <th>Visibility (km)</th>\n",
              "      <th>Stn Press (kPa)</th>\n",
              "    </tr>\n",
              "  </thead>\n",
              "  <tbody>\n",
              "    <tr>\n",
              "      <th>count</th>\n",
              "      <td>8784.000000</td>\n",
              "      <td>8784.000000</td>\n",
              "      <td>8784.000000</td>\n",
              "      <td>8784.000000</td>\n",
              "      <td>8784.000000</td>\n",
              "      <td>8784.000000</td>\n",
              "    </tr>\n",
              "    <tr>\n",
              "      <th>mean</th>\n",
              "      <td>8.798144</td>\n",
              "      <td>2.555294</td>\n",
              "      <td>67.431694</td>\n",
              "      <td>14.945469</td>\n",
              "      <td>27.664447</td>\n",
              "      <td>101.051623</td>\n",
              "    </tr>\n",
              "    <tr>\n",
              "      <th>std</th>\n",
              "      <td>11.687883</td>\n",
              "      <td>10.883072</td>\n",
              "      <td>16.918881</td>\n",
              "      <td>8.688696</td>\n",
              "      <td>12.622688</td>\n",
              "      <td>0.844005</td>\n",
              "    </tr>\n",
              "    <tr>\n",
              "      <th>min</th>\n",
              "      <td>-23.300000</td>\n",
              "      <td>-28.500000</td>\n",
              "      <td>18.000000</td>\n",
              "      <td>0.000000</td>\n",
              "      <td>0.200000</td>\n",
              "      <td>97.520000</td>\n",
              "    </tr>\n",
              "    <tr>\n",
              "      <th>25%</th>\n",
              "      <td>0.100000</td>\n",
              "      <td>-5.900000</td>\n",
              "      <td>56.000000</td>\n",
              "      <td>9.000000</td>\n",
              "      <td>24.100000</td>\n",
              "      <td>100.560000</td>\n",
              "    </tr>\n",
              "    <tr>\n",
              "      <th>50%</th>\n",
              "      <td>9.300000</td>\n",
              "      <td>3.300000</td>\n",
              "      <td>68.000000</td>\n",
              "      <td>13.000000</td>\n",
              "      <td>25.000000</td>\n",
              "      <td>101.070000</td>\n",
              "    </tr>\n",
              "    <tr>\n",
              "      <th>75%</th>\n",
              "      <td>18.800000</td>\n",
              "      <td>11.800000</td>\n",
              "      <td>81.000000</td>\n",
              "      <td>20.000000</td>\n",
              "      <td>25.000000</td>\n",
              "      <td>101.590000</td>\n",
              "    </tr>\n",
              "    <tr>\n",
              "      <th>max</th>\n",
              "      <td>33.000000</td>\n",
              "      <td>24.400000</td>\n",
              "      <td>100.000000</td>\n",
              "      <td>83.000000</td>\n",
              "      <td>48.300000</td>\n",
              "      <td>103.650000</td>\n",
              "    </tr>\n",
              "  </tbody>\n",
              "</table>\n",
              "</div>\n",
              "      <button class=\"colab-df-convert\" onclick=\"convertToInteractive('df-c8195d7a-b06c-4828-b2b4-27a6e732e69d')\"\n",
              "              title=\"Convert this dataframe to an interactive table.\"\n",
              "              style=\"display:none;\">\n",
              "        \n",
              "  <svg xmlns=\"http://www.w3.org/2000/svg\" height=\"24px\"viewBox=\"0 0 24 24\"\n",
              "       width=\"24px\">\n",
              "    <path d=\"M0 0h24v24H0V0z\" fill=\"none\"/>\n",
              "    <path d=\"M18.56 5.44l.94 2.06.94-2.06 2.06-.94-2.06-.94-.94-2.06-.94 2.06-2.06.94zm-11 1L8.5 8.5l.94-2.06 2.06-.94-2.06-.94L8.5 2.5l-.94 2.06-2.06.94zm10 10l.94 2.06.94-2.06 2.06-.94-2.06-.94-.94-2.06-.94 2.06-2.06.94z\"/><path d=\"M17.41 7.96l-1.37-1.37c-.4-.4-.92-.59-1.43-.59-.52 0-1.04.2-1.43.59L10.3 9.45l-7.72 7.72c-.78.78-.78 2.05 0 2.83L4 21.41c.39.39.9.59 1.41.59.51 0 1.02-.2 1.41-.59l7.78-7.78 2.81-2.81c.8-.78.8-2.07 0-2.86zM5.41 20L4 18.59l7.72-7.72 1.47 1.35L5.41 20z\"/>\n",
              "  </svg>\n",
              "      </button>\n",
              "      \n",
              "  <style>\n",
              "    .colab-df-container {\n",
              "      display:flex;\n",
              "      flex-wrap:wrap;\n",
              "      gap: 12px;\n",
              "    }\n",
              "\n",
              "    .colab-df-convert {\n",
              "      background-color: #E8F0FE;\n",
              "      border: none;\n",
              "      border-radius: 50%;\n",
              "      cursor: pointer;\n",
              "      display: none;\n",
              "      fill: #1967D2;\n",
              "      height: 32px;\n",
              "      padding: 0 0 0 0;\n",
              "      width: 32px;\n",
              "    }\n",
              "\n",
              "    .colab-df-convert:hover {\n",
              "      background-color: #E2EBFA;\n",
              "      box-shadow: 0px 1px 2px rgba(60, 64, 67, 0.3), 0px 1px 3px 1px rgba(60, 64, 67, 0.15);\n",
              "      fill: #174EA6;\n",
              "    }\n",
              "\n",
              "    [theme=dark] .colab-df-convert {\n",
              "      background-color: #3B4455;\n",
              "      fill: #D2E3FC;\n",
              "    }\n",
              "\n",
              "    [theme=dark] .colab-df-convert:hover {\n",
              "      background-color: #434B5C;\n",
              "      box-shadow: 0px 1px 3px 1px rgba(0, 0, 0, 0.15);\n",
              "      filter: drop-shadow(0px 1px 2px rgba(0, 0, 0, 0.3));\n",
              "      fill: #FFFFFF;\n",
              "    }\n",
              "  </style>\n",
              "\n",
              "      <script>\n",
              "        const buttonEl =\n",
              "          document.querySelector('#df-c8195d7a-b06c-4828-b2b4-27a6e732e69d button.colab-df-convert');\n",
              "        buttonEl.style.display =\n",
              "          google.colab.kernel.accessAllowed ? 'block' : 'none';\n",
              "\n",
              "        async function convertToInteractive(key) {\n",
              "          const element = document.querySelector('#df-c8195d7a-b06c-4828-b2b4-27a6e732e69d');\n",
              "          const dataTable =\n",
              "            await google.colab.kernel.invokeFunction('convertToInteractive',\n",
              "                                                     [key], {});\n",
              "          if (!dataTable) return;\n",
              "\n",
              "          const docLinkHtml = 'Like what you see? Visit the ' +\n",
              "            '<a target=\"_blank\" href=https://colab.research.google.com/notebooks/data_table.ipynb>data table notebook</a>'\n",
              "            + ' to learn more about interactive tables.';\n",
              "          element.innerHTML = '';\n",
              "          dataTable['output_type'] = 'display_data';\n",
              "          await google.colab.output.renderOutput(dataTable, element);\n",
              "          const docLink = document.createElement('div');\n",
              "          docLink.innerHTML = docLinkHtml;\n",
              "          element.appendChild(docLink);\n",
              "        }\n",
              "      </script>\n",
              "    </div>\n",
              "  </div>\n",
              "  "
            ]
          },
          "metadata": {},
          "execution_count": 6
        }
      ]
    },
    {
      "cell_type": "code",
      "metadata": {
        "ExecuteTime": {
          "end_time": "2018-06-15T15:55:19.050930Z",
          "start_time": "2018-06-15T15:55:19.045842Z"
        },
        "id": "K5euPiXAWX7-"
      },
      "source": [
        "weather.shape\n",
        "\n",
        "# why only six columns in describe?"
      ],
      "execution_count": null,
      "outputs": []
    },
    {
      "cell_type": "markdown",
      "metadata": {
        "id": "Ogb_7cjSWX8B"
      },
      "source": [
        ">Great, looks like these are all behaving relatively as expected! That's lovely."
      ]
    },
    {
      "cell_type": "markdown",
      "metadata": {
        "id": "ISQqe2vLWX8C"
      },
      "source": [
        "### Getting data from the dataframe\n",
        "\n",
        "Now let's learn how to grab some data from the DataFrame. Also, let's look at what a _Series_ is. To start with, let's grab a column from our data (note that `head` says, \"show me the first few rows of my dataframe, column, etc.\"):"
      ]
    },
    {
      "cell_type": "markdown",
      "metadata": {
        "id": "ZcAGdzwNTPVW"
      },
      "source": []
    },
    {
      "cell_type": "code",
      "metadata": {
        "ExecuteTime": {
          "end_time": "2018-06-15T15:55:19.847990Z",
          "start_time": "2018-06-15T15:55:19.842182Z"
        },
        "id": "ft5gnwEdWX8C",
        "colab": {
          "base_uri": "https://localhost:8080/"
        },
        "outputId": "c7bbb903-8c20-4a1a-f280-981c06f7e89e"
      },
      "source": [
        "weather['Temp (C)'].head()"
      ],
      "execution_count": null,
      "outputs": [
        {
          "output_type": "execute_result",
          "data": {
            "text/plain": [
              "0   -1.8\n",
              "1   -1.8\n",
              "2   -1.8\n",
              "3   -1.5\n",
              "4   -1.5\n",
              "Name: Temp (C), dtype: float64"
            ]
          },
          "metadata": {},
          "execution_count": 7
        }
      ]
    },
    {
      "cell_type": "markdown",
      "metadata": {
        "id": "c575_w5RWX8F"
      },
      "source": [
        "This is a series! It has both the index (the left side) and the value. So we know which row it is and what the value is. That's pretty sweet. What can we do with a series? One really handy thing is getting the number of times a value shows up. Let's see that in action."
      ]
    },
    {
      "cell_type": "code",
      "metadata": {
        "ExecuteTime": {
          "end_time": "2018-06-15T15:55:21.368045Z",
          "start_time": "2018-06-15T15:55:21.357748Z"
        },
        "id": "GXzcjMupWX8F",
        "colab": {
          "base_uri": "https://localhost:8080/"
        },
        "outputId": "648143a4-56ab-4a0f-a2bf-af2226565d91"
      },
      "source": [
        "weather['Weather'].value_counts()"
      ],
      "execution_count": null,
      "outputs": [
        {
          "output_type": "execute_result",
          "data": {
            "text/plain": [
              "Mainly Clear                               2106\n",
              "Mostly Cloudy                              2069\n",
              "Cloudy                                     1728\n",
              "Clear                                      1326\n",
              "Snow                                        390\n",
              "Rain                                        306\n",
              "Rain Showers                                188\n",
              "Fog                                         150\n",
              "Rain,Fog                                    116\n",
              "Drizzle,Fog                                  80\n",
              "Snow Showers                                 60\n",
              "Drizzle                                      41\n",
              "Snow,Fog                                     37\n",
              "Snow,Blowing Snow                            19\n",
              "Rain,Snow                                    18\n",
              "Thunderstorms,Rain Showers                   16\n",
              "Haze                                         16\n",
              "Drizzle,Snow,Fog                             15\n",
              "Freezing Rain                                14\n",
              "Freezing Drizzle,Snow                        11\n",
              "Freezing Drizzle                              7\n",
              "Snow,Ice Pellets                              6\n",
              "Freezing Drizzle,Fog                          6\n",
              "Snow,Haze                                     5\n",
              "Freezing Fog                                  4\n",
              "Snow Showers,Fog                              4\n",
              "Moderate Snow                                 4\n",
              "Rain,Snow,Ice Pellets                         4\n",
              "Freezing Rain,Fog                             4\n",
              "Freezing Drizzle,Haze                         3\n",
              "Rain,Haze                                     3\n",
              "Thunderstorms,Rain                            3\n",
              "Thunderstorms,Rain Showers,Fog                3\n",
              "Freezing Rain,Haze                            2\n",
              "Drizzle,Snow                                  2\n",
              "Rain Showers,Snow Showers                     2\n",
              "Thunderstorms                                 2\n",
              "Moderate Snow,Blowing Snow                    2\n",
              "Rain Showers,Fog                              1\n",
              "Thunderstorms,Moderate Rain Showers,Fog       1\n",
              "Snow Pellets                                  1\n",
              "Rain,Snow,Fog                                 1\n",
              "Moderate Rain,Fog                             1\n",
              "Freezing Rain,Ice Pellets,Fog                 1\n",
              "Drizzle,Ice Pellets,Fog                       1\n",
              "Thunderstorms,Rain,Fog                        1\n",
              "Rain,Ice Pellets                              1\n",
              "Rain,Snow Grains                              1\n",
              "Thunderstorms,Heavy Rain Showers              1\n",
              "Freezing Rain,Snow Grains                     1\n",
              "Name: Weather, dtype: int64"
            ]
          },
          "metadata": {},
          "execution_count": 8
        }
      ]
    },
    {
      "cell_type": "markdown",
      "metadata": {
        "id": "RHk33kOdWX8H"
      },
      "source": [
        "**Exercise 1:**\n",
        "\n",
        "What is the most common Relative Humidity Percentage?"
      ]
    },
    {
      "cell_type": "code",
      "metadata": {
        "id": "GIYjITFYWX8I"
      },
      "source": [
        "# Hint: Value Counts"
      ],
      "execution_count": null,
      "outputs": []
    },
    {
      "cell_type": "code",
      "metadata": {
        "id": "MQdb0EGtWX8K"
      },
      "source": [],
      "execution_count": null,
      "outputs": []
    },
    {
      "cell_type": "markdown",
      "metadata": {
        "id": "4SyrgChEWX8L"
      },
      "source": [
        "### Row Lookups"
      ]
    },
    {
      "cell_type": "markdown",
      "metadata": {
        "id": "xz3a8UgjWX8M"
      },
      "source": [
        "Cool. Now how do we access rows? We have to play a little bit of pandas games to do so. We'll use `.iloc` to do the job. Let's demonstrate by grabbing the first (0th) row."
      ]
    },
    {
      "cell_type": "code",
      "metadata": {
        "ExecuteTime": {
          "end_time": "2018-06-08T21:42:57.706983Z",
          "start_time": "2018-06-08T21:42:57.697891Z"
        },
        "id": "5Q2lAhfJWX8N"
      },
      "source": [
        "weather.iloc[0]"
      ],
      "execution_count": null,
      "outputs": []
    },
    {
      "cell_type": "markdown",
      "metadata": {
        "id": "5Jls4WbsWX8Q"
      },
      "source": [
        "We can get multiple rows by following Python's conventions like so:"
      ]
    },
    {
      "cell_type": "code",
      "metadata": {
        "ExecuteTime": {
          "end_time": "2018-06-08T21:42:58.131160Z",
          "start_time": "2018-06-08T21:42:58.115537Z"
        },
        "id": "tp2h26_2WX8R"
      },
      "source": [
        "weather.iloc[10:13]"
      ],
      "execution_count": null,
      "outputs": []
    },
    {
      "cell_type": "markdown",
      "metadata": {
        "id": "0Dxhb-MPWX8U"
      },
      "source": [
        "We also might want to select multiple columns. We can do that like this:"
      ]
    },
    {
      "cell_type": "code",
      "metadata": {
        "ExecuteTime": {
          "end_time": "2018-06-08T21:42:59.045276Z",
          "start_time": "2018-06-08T21:42:59.034442Z"
        },
        "id": "_hYufyXOWX8U"
      },
      "source": [
        "weather[['Temp (C)',\"Dew Point Temp (C)\"]].head()\n",
        "\n",
        "# note that type of quote doesn't matter"
      ],
      "execution_count": null,
      "outputs": []
    },
    {
      "cell_type": "markdown",
      "metadata": {
        "id": "QTkXNq7FWX8X"
      },
      "source": [
        "And what if we want to get rows and columns?"
      ]
    },
    {
      "cell_type": "code",
      "metadata": {
        "ExecuteTime": {
          "end_time": "2018-06-15T15:56:40.121254Z",
          "start_time": "2018-06-15T15:56:40.109419Z"
        },
        "id": "dW_Q09wgWX8Y"
      },
      "source": [
        "weather.loc[3:8, ['Temp (C)',\"Dew Point Temp (C)\"]]"
      ],
      "execution_count": null,
      "outputs": []
    },
    {
      "cell_type": "markdown",
      "metadata": {
        "id": "JpM-Sce-WX8c"
      },
      "source": [
        "**Note that iloc and loc have slightly different outputs, we're not going to have time to fully explore the difference... just remember that they're slightly different! iloc means \"index location\" and loc means \"label location\"**."
      ]
    },
    {
      "cell_type": "code",
      "metadata": {
        "ExecuteTime": {
          "end_time": "2018-06-15T15:58:15.219966Z",
          "start_time": "2018-06-15T15:58:15.206713Z"
        },
        "id": "TxJ0TSXwWX8c"
      },
      "source": [
        "weather.iloc[3:6]"
      ],
      "execution_count": null,
      "outputs": []
    },
    {
      "cell_type": "code",
      "metadata": {
        "ExecuteTime": {
          "end_time": "2018-06-15T15:58:17.121647Z",
          "start_time": "2018-06-15T15:58:17.108001Z"
        },
        "id": "g-P0T3MvWX8f"
      },
      "source": [
        "weather.loc[3:6]"
      ],
      "execution_count": null,
      "outputs": []
    },
    {
      "cell_type": "markdown",
      "metadata": {
        "id": "fXSvGXwG37fN"
      },
      "source": [
        "### POLL\n",
        "\n",
        ">- If you could use `iloc` or `loc`, which is preferred? Can you provide examples?"
      ]
    },
    {
      "cell_type": "markdown",
      "metadata": {
        "id": "U-4yQIBoWX8i"
      },
      "source": [
        "### Filtering"
      ]
    },
    {
      "cell_type": "markdown",
      "metadata": {
        "id": "RLApExjWWX8i"
      },
      "source": [
        "What if we want to filter the data so we only see rows that match a certain criteria. We can do that by making a mask. A mask is a series that is trues and falses, based on some condition. So let's ask it to check if the temperature was -1.8, and if so mark the row as a true and if not, mark it as a false."
      ]
    },
    {
      "cell_type": "code",
      "metadata": {
        "ExecuteTime": {
          "end_time": "2018-06-08T21:43:01.430948Z",
          "start_time": "2018-06-08T21:43:01.422943Z"
        },
        "id": "mLqjw2fVWX8j",
        "colab": {
          "base_uri": "https://localhost:8080/"
        },
        "outputId": "64442170-c9c5-45b6-eb5c-d62355cde00d"
      },
      "source": [
        "mask = (weather['Temp (C)'] == -1.8)\n",
        "mask.head()"
      ],
      "execution_count": null,
      "outputs": [
        {
          "output_type": "execute_result",
          "data": {
            "text/plain": [
              "0     True\n",
              "1     True\n",
              "2     True\n",
              "3    False\n",
              "4    False\n",
              "Name: Temp (C), dtype: bool"
            ]
          },
          "metadata": {},
          "execution_count": 9
        }
      ]
    },
    {
      "cell_type": "code",
      "metadata": {
        "ExecuteTime": {
          "end_time": "2018-06-08T21:43:01.761884Z",
          "start_time": "2018-06-08T21:43:01.750004Z"
        },
        "id": "O6r2IHlIWX8l",
        "colab": {
          "base_uri": "https://localhost:8080/"
        },
        "outputId": "a81263eb-d3bb-4aeb-955d-4eac3f6609e7"
      },
      "source": [
        "weather['Temp (C)'].head()"
      ],
      "execution_count": null,
      "outputs": [
        {
          "output_type": "execute_result",
          "data": {
            "text/plain": [
              "0   -1.8\n",
              "1   -1.8\n",
              "2   -1.8\n",
              "3   -1.5\n",
              "4   -1.5\n",
              "Name: Temp (C), dtype: float64"
            ]
          },
          "metadata": {},
          "execution_count": 10
        }
      ]
    },
    {
      "cell_type": "markdown",
      "metadata": {
        "id": "EkimQnGXWX8q"
      },
      "source": [
        "Now we apply the mask and should see that only rows with that temperature remain!"
      ]
    },
    {
      "cell_type": "code",
      "metadata": {
        "ExecuteTime": {
          "end_time": "2018-06-08T21:43:02.452792Z",
          "start_time": "2018-06-08T21:43:02.435474Z"
        },
        "id": "NyNmGA0kWX8q"
      },
      "source": [
        "weather_test = weather[mask]\n",
        "weather_test.head(10)"
      ],
      "execution_count": null,
      "outputs": []
    },
    {
      "cell_type": "markdown",
      "metadata": {
        "collapsed": true,
        "id": "fd3W_MMkWX8s"
      },
      "source": [
        "What if we want to match multiple conditions? Let's do a double filter:"
      ]
    },
    {
      "cell_type": "code",
      "metadata": {
        "ExecuteTime": {
          "end_time": "2018-06-08T21:43:04.194201Z",
          "start_time": "2018-06-08T21:43:04.179887Z"
        },
        "id": "9jt-6rutWX8t"
      },
      "source": [
        "mask = (weather['Temp (C)'] == -1.8) & (weather['Visibility (km)'] == 8.0)\n",
        "weather[mask]"
      ],
      "execution_count": null,
      "outputs": []
    },
    {
      "cell_type": "markdown",
      "metadata": {
        "id": "89ZSUe_jWX8v"
      },
      "source": [
        "**Exercise 2:**\n",
        "\n",
        "Apply a new filter to select only the hours where the temperature is above 25C and the humidity is at or above 80%. How many hours are like this?"
      ]
    },
    {
      "cell_type": "code",
      "metadata": {
        "id": "gKpRqlkYWX8v"
      },
      "source": [
        "# Hint: create a filter called mask, then apply it to the dataframe"
      ],
      "execution_count": null,
      "outputs": []
    },
    {
      "cell_type": "code",
      "metadata": {
        "id": "T7etYiQ9WX8x"
      },
      "source": [],
      "execution_count": null,
      "outputs": []
    },
    {
      "cell_type": "markdown",
      "metadata": {
        "id": "r5GeDHjdWX8z"
      },
      "source": [
        "### Doing Stats with Pandas"
      ]
    },
    {
      "cell_type": "markdown",
      "metadata": {
        "id": "N33dfx4uWX8z"
      },
      "source": [
        "Pandas also lets us do neat things like measuring statistics about our data. Let's look at the average temperature throughout the year."
      ]
    },
    {
      "cell_type": "code",
      "metadata": {
        "ExecuteTime": {
          "end_time": "2018-06-08T21:43:04.869491Z",
          "start_time": "2018-06-08T21:43:04.864047Z"
        },
        "id": "dwedgR9DWX80"
      },
      "source": [
        "weather['Temp (C)'].mean()"
      ],
      "execution_count": null,
      "outputs": []
    },
    {
      "cell_type": "markdown",
      "metadata": {
        "id": "XettQrmwWX83"
      },
      "source": [
        "Or find the max or min temperature:"
      ]
    },
    {
      "cell_type": "code",
      "metadata": {
        "ExecuteTime": {
          "end_time": "2018-06-08T21:43:05.644524Z",
          "start_time": "2018-06-08T21:43:05.639157Z"
        },
        "id": "_GmlxdT_WX83"
      },
      "source": [
        "print(weather['Temp (C)'].max())"
      ],
      "execution_count": null,
      "outputs": []
    },
    {
      "cell_type": "code",
      "metadata": {
        "ExecuteTime": {
          "end_time": "2018-06-08T21:43:05.995282Z",
          "start_time": "2018-06-08T21:43:05.987288Z"
        },
        "id": "zdN9ctFyWX85"
      },
      "source": [
        "print(weather['Temp (C)'].min())"
      ],
      "execution_count": null,
      "outputs": []
    },
    {
      "cell_type": "markdown",
      "metadata": {
        "id": "JHtppB7bWX88"
      },
      "source": [
        "**Exercise 3:**\n",
        "\n",
        "Let's combine filtering and stats. Find the average wind speed for hours that are less than 10C."
      ]
    },
    {
      "cell_type": "code",
      "metadata": {
        "id": "x0LyfwLfWX89"
      },
      "source": [
        "# Hint: Create the filter, apply it to the frame, then calculate something on the new dataframe"
      ],
      "execution_count": null,
      "outputs": []
    },
    {
      "cell_type": "code",
      "metadata": {
        "id": "c_6Oj-FtWX8-"
      },
      "source": [],
      "execution_count": null,
      "outputs": []
    },
    {
      "cell_type": "markdown",
      "metadata": {
        "id": "26eWaz01WX9A"
      },
      "source": [
        "### Making new columns"
      ]
    },
    {
      "cell_type": "markdown",
      "metadata": {
        "id": "PC8nxY45WX9B"
      },
      "source": [
        "Pandas also allows us to create columns that are mixtures of other columns. Let's make a column that is \"visibility as a percentage of the maximum visibility\"."
      ]
    },
    {
      "cell_type": "code",
      "metadata": {
        "ExecuteTime": {
          "end_time": "2018-06-08T21:43:14.404398Z",
          "start_time": "2018-06-08T21:43:14.387998Z"
        },
        "id": "nfoIizWKWX9B"
      },
      "source": [
        "max_vis = weather['Visibility (km)'].max()\n",
        "weather['percent_visibility'] = weather['Visibility (km)']/max_vis\n",
        "weather.head()"
      ],
      "execution_count": null,
      "outputs": []
    },
    {
      "cell_type": "markdown",
      "metadata": {
        "id": "oA4zDyBCWX9D"
      },
      "source": [
        "**Exercise 4**\n",
        "\n",
        "Let's convert temperature to Farenheit and create a new column to store that. The conversion to degrees F is done by multiplying the temperature in C by 1.8, then adding 32. Store this in a column called `Temp (F)`. If you've done it right, the first conversion should go from `-1.8C` to `28.76F` in a new column."
      ]
    },
    {
      "cell_type": "code",
      "metadata": {
        "id": "ouY9RxKUWX9D"
      },
      "source": [
        "# Hint: You can multiply a column by a number, and add numbers to it"
      ],
      "execution_count": null,
      "outputs": []
    },
    {
      "cell_type": "code",
      "metadata": {
        "id": "NNJL1S6AWX9F"
      },
      "source": [],
      "execution_count": null,
      "outputs": []
    },
    {
      "cell_type": "markdown",
      "metadata": {
        "id": "PuBM6Ed9WX9J"
      },
      "source": [
        "### Plotting with Pandas"
      ]
    },
    {
      "cell_type": "markdown",
      "metadata": {
        "id": "42BlPgvlWX9K"
      },
      "source": [
        "The last part of pandas we want to explore today is plotting. Let's plot a histogram of temperature over the year."
      ]
    },
    {
      "cell_type": "code",
      "metadata": {
        "ExecuteTime": {
          "end_time": "2018-06-15T19:16:04.169635Z",
          "start_time": "2018-06-15T19:16:03.996632Z"
        },
        "id": "-NauMmltWX9K"
      },
      "source": [
        "weather['Temp (C)'].plot.hist()\n",
        "plt.xlabel(\"Temperature (C)\");"
      ],
      "execution_count": null,
      "outputs": []
    },
    {
      "cell_type": "markdown",
      "metadata": {
        "id": "5ZbpShcz3n2m"
      },
      "source": [
        "### POLL\n",
        "\n",
        "> - Is this a good visual?\n",
        "\n",
        ">- How could it be improved?"
      ]
    },
    {
      "cell_type": "markdown",
      "metadata": {
        "id": "BMbz26btWX9P"
      },
      "source": [
        "What about weather over time? Let's do a line plot of the temperature."
      ]
    },
    {
      "cell_type": "code",
      "metadata": {
        "ExecuteTime": {
          "end_time": "2018-06-15T19:16:05.489625Z",
          "start_time": "2018-06-15T19:16:05.322033Z"
        },
        "id": "OSZA2lMcWX9P"
      },
      "source": [
        "weather['Temp (C)'].plot.line()"
      ],
      "execution_count": null,
      "outputs": []
    },
    {
      "cell_type": "markdown",
      "metadata": {
        "id": "kQ1ltTK2WX9R"
      },
      "source": [
        "Neat! Except, that doesn't show us the date on the X-Axis. That's because right now, we don't have the date as the index. Let's fix that."
      ]
    },
    {
      "cell_type": "code",
      "metadata": {
        "ExecuteTime": {
          "end_time": "2018-06-15T19:16:07.329870Z",
          "start_time": "2018-06-15T19:16:07.315712Z"
        },
        "id": "HQzNbA5yWX9S"
      },
      "source": [
        "weather['Date/Time'] = pd.to_datetime(weather['Date/Time'])\n",
        "weather = weather.set_index('Date/Time')"
      ],
      "execution_count": null,
      "outputs": []
    },
    {
      "cell_type": "code",
      "metadata": {
        "ExecuteTime": {
          "end_time": "2018-06-15T19:16:08.366080Z",
          "start_time": "2018-06-15T19:16:07.814158Z"
        },
        "id": "eYeOHFpjWX9U"
      },
      "source": [
        "weather['Temp (C)'].plot.line()"
      ],
      "execution_count": null,
      "outputs": []
    },
    {
      "cell_type": "markdown",
      "metadata": {
        "id": "jM1FleQTWX9Y"
      },
      "source": [
        "**Exercise 5**\n",
        "\n",
        "Plot a histogram of wind speeds. Also plot the wind speed versus the time."
      ]
    },
    {
      "cell_type": "code",
      "metadata": {
        "ExecuteTime": {
          "end_time": "2018-06-15T19:16:09.747090Z",
          "start_time": "2018-06-15T19:16:09.744402Z"
        },
        "id": "F2gLyZB4WX9Y"
      },
      "source": [
        "# Hint: plot.hist(), plot.line()"
      ],
      "execution_count": null,
      "outputs": []
    },
    {
      "cell_type": "code",
      "metadata": {
        "id": "N7ShdN3dWX9b"
      },
      "source": [],
      "execution_count": null,
      "outputs": []
    },
    {
      "cell_type": "code",
      "metadata": {
        "id": "jsEK7iBpWX9f"
      },
      "source": [],
      "execution_count": null,
      "outputs": []
    },
    {
      "cell_type": "markdown",
      "metadata": {
        "id": "r5-46iZTWX9h"
      },
      "source": [
        "## Exercises"
      ]
    },
    {
      "cell_type": "markdown",
      "metadata": {
        "id": "pgtotYTbWX9h"
      },
      "source": [
        "In the data folder, there is a csv that contains the file `auto-mpg.csv`. That data is from here: https://archive.ics.uci.edu/ml/datasets/auto+mpg\n",
        "\n",
        "This contains information about makes/models of cars and their reported fuel efficiency. We'll use that as a baseline for some hands on work with Pandas."
      ]
    },
    {
      "cell_type": "markdown",
      "metadata": {
        "id": "0MJBiEXUWX9h"
      },
      "source": [
        "### Challenge 1: Load the file into a Pandas dataframe, then print the top 5 rows\n",
        "\n",
        "Store this dataframe in a variable called `autos`"
      ]
    },
    {
      "cell_type": "code",
      "metadata": {
        "id": "vk5M9qlSWX9i"
      },
      "source": [
        "# hint: look for the raw data file's link"
      ],
      "execution_count": null,
      "outputs": []
    },
    {
      "cell_type": "markdown",
      "metadata": {
        "id": "rkjJoeqZWX9j"
      },
      "source": [
        "### Challenge 2: Find the mean weight and the mean mpg in the dataset as a whole. Now find those for all vehicles with model_year equal to 77"
      ]
    },
    {
      "cell_type": "code",
      "metadata": {
        "id": "vT6SG0ywWX9j"
      },
      "source": [],
      "execution_count": null,
      "outputs": []
    },
    {
      "cell_type": "markdown",
      "metadata": {
        "id": "t9HIgUrAWX9l"
      },
      "source": [
        "### Challenge 3: Create a column that is horsepower per cylinder"
      ]
    },
    {
      "cell_type": "code",
      "metadata": {
        "id": "qhJRphFaWX9l"
      },
      "source": [
        "# hint: there are multiple solutions, can you find more than one?"
      ],
      "execution_count": null,
      "outputs": []
    },
    {
      "cell_type": "markdown",
      "metadata": {
        "id": "YI5nXelqWX9n"
      },
      "source": [
        "### Challenge 4: Make two histograms, one of hp_per_cylinder and one of horsepower."
      ]
    },
    {
      "cell_type": "code",
      "metadata": {
        "id": "kpQZ6X93WX9n"
      },
      "source": [
        "# hp_per_cylinder"
      ],
      "execution_count": null,
      "outputs": []
    },
    {
      "cell_type": "code",
      "metadata": {
        "id": "xsTMhepDWX9o"
      },
      "source": [
        "# horsepower"
      ],
      "execution_count": null,
      "outputs": []
    },
    {
      "cell_type": "markdown",
      "metadata": {
        "id": "t9UYau292rCH"
      },
      "source": [
        "# Where to go from here?\n",
        "\n",
        "We hope you see the power of Pandas and how it can apply to your analytics and data science projects! Here are some other great resources:\n",
        "\n",
        "- [10 Minutes to pandas](http://pandas.pydata.org/pandas-docs/stable/getting_started/10min.html)  *-- Official beginner guide*\n",
        "- [Python Pandas Tutorial](https://www.tutorialspoint.com/python_pandas/) *-- TutorialPoint tutorial*\n",
        "- [A Complete Introduction for Beginners](https://www.learndatasci.com/tutorials/python-pandas-tutorial-complete-introduction-for-beginners/)   *-- LearnDataSci guide*\n",
        "\n",
        "<br>\n",
        "\n",
        "Thanks for joining us today; enjoy exploring the power of Pandas!\n",
        "\n",
        "<br>"
      ]
    },
    {
      "cell_type": "code",
      "metadata": {
        "id": "h-XOW_pL3Yh_"
      },
      "source": [],
      "execution_count": null,
      "outputs": []
    }
  ]
}